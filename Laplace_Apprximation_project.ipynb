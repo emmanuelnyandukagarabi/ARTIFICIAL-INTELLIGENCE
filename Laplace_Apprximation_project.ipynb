{
  "nbformat": 4,
  "nbformat_minor": 0,
  "metadata": {
    "colab": {
      "provenance": []
    },
    "kernelspec": {
      "name": "python3",
      "display_name": "Python 3"
    },
    "language_info": {
      "name": "python"
    }
  },
  "cells": [
    {
      "cell_type": "markdown",
      "source": [
        "\n",
        "#**<font color='magenta'>Laplace Approximation</font>**\n",
        "***\n",
        "**Students**\n",
        "\n",
        "\n",
        "|         Full name         |   Username  |         Email         |\n",
        "|---------------------------|-------------|-----------------------|\n",
        "| Emmanuel Nyandu Kagarabi  | emmanuelnk  | emannuelnk@aims.ac.za |\n",
        "| Clément ADANDé            | clementa    | clementa@aims.ac.za   |\n",
        "| Hermann Michael TITCHO    | michaelt    | michaelt@aims.ac.za   |\n",
        "\n",
        "<font color='purple'>`Welcome to this notebook related to the Laplace Approximation.`</font>"
      ],
      "metadata": {
        "id": "8GARwMLAGOo2"
      }
    },
    {
      "cell_type": "markdown",
      "source": [
        "# **Goals**\n",
        "1. *Laplace approximation in 1D*\n",
        "2. *Show an example of obtaining an estimate based on the likelihood in 1D*\n",
        "3. *Show an example of obtaining an estimate based on the posteriors in 1D*\n",
        "4. *Explain Laplace approximation in N D, explain  Hessian/Fisher information matrix*\n",
        "5. *Implement Laplace Approximation*\n",
        "\n"
      ],
      "metadata": {
        "id": "IyvI5fP6JXZs"
      }
    },
    {
      "cell_type": "markdown",
      "source": [
        "# **1. Introduction**\n",
        "\n",
        "In statistics, it is common to estimate parameters from data and model uncertainty about these parameters using a probability distribution. This process is known as **inference**. In the field of **Bayesian statistics**, the approach of using the posterior distribution to represent this uncertainty is adopted. To compute the **posterior**, we begin with a **prior** distribution $p(θ) $ that reflects our knowledge before observing the data. We then define a **likelihood** function $p(\\mathcal{D}|θ)$ that represents the expected data for each parameter setting. By applying Bayes' rule, we condition the prior on the observed data to compute the posterior $p(θ|\\mathcal{D})$ as follows:\n",
        "\n",
        "$$\\boxed{p(θ|\\mathcal{D})=\\dfrac{p(\\mathcal{D}|θ)p(θ)}{p(\\mathcal{D})}=\\dfrac{p(\\mathcal{D}|θ)p(θ)}{∫ p(\\mathcal{D}|θ)p(θ)dθ}}$$\n",
        "\n",
        "The denominator $p(\\mathcal{D})$ is called the **marginal likelihood** since it is computed by integrating out the unknown $θ$.\n",
        "\n",
        "However, actually performing the computation of $p(θ|\\mathcal{D})$ is usually **intractable**, except for simple special cases. Therefore, we need to approximate the posterior. There are various methods available for performing approximate posterior inference, such as **Grid Approximation**, **Laplace Approximation**, **Variational Approximation**, **Markov Chain Monte Carlo (MCMC) Approximatio**n, etc. In this project, we will focus solely on **Laplace Approximation**."
      ],
      "metadata": {
        "id": "4gICzCnTK45D"
      }
    },
    {
      "cell_type": "markdown",
      "source": [
        "# **2. Development**"
      ],
      "metadata": {
        "id": "elLoKmRILBw6"
      }
    },
    {
      "cell_type": "markdown",
      "source": [
        "**2.1. Laplace approximation in 1d**"
      ],
      "metadata": {
        "id": "hape-QirHrn5"
      }
    },
    {
      "cell_type": "markdown",
      "source": [
        "\n",
        "\n",
        "It aims to find a Gaussian approximation to a probability density defined over a set of continuous variables.\n",
        "So let's consideer the case of a single continuous variable $z$, and suppose the distribution $p(z)$ is defined by $$p(z)=\\dfrac{1}{Z}f(z)$$ where\n",
        "$$Z= ∫ f(z)dz$$ is the **normalisation coefficient**. Let's assume $Z$ is **unkown.** In the **Laplace method** the goal is to find a Gaussian approximation $q(z)$ which is centered on a mode of the distribution $p(z)$."
      ],
      "metadata": {
        "id": "fRRVse2WPBvy"
      }
    },
    {
      "cell_type": "markdown",
      "source": [
        "The first step is to find a mode of $p(z)$, in words, a point $z_0$ such that\n",
        "$$p'(z)=0\\text{ or } \\dfrac{df(z)}{dz}\\bigg\\lvert_{z=z_0}=0$$"
      ],
      "metadata": {
        "id": "5nBSfi-KRBss"
      }
    },
    {
      "cell_type": "markdown",
      "source": [
        "A Gaussian distribution has the property that its logarithm is a quadratic function of the variables. Let's consider now the Taylor expansion of $\\ln f(z)$ centered on the mode $z_{0}$.\n",
        "\\begin{align}\n",
        "\\ln f(z)≈\\ln f(z_0)+\\frac{d}{dz}\\left[\\ln f(z)\\right]\\bigg\\lvert_{z=z_0}(z-z_{0})+\\frac{1}{2!}\\frac{d^2}{dz^2}[\\ln f(z)]\\bigg\\lvert_{z=z_0}(z-z_0)^{2}\\\\\n",
        "\\end{align}\n",
        "where $$ \\frac{d}{dz}\\left[\\ln f(z)\\right]\\bigg\\lvert_{z=z_0}=[\\ln[f(z_0)]' =\\ln'[f(z_0)]⋅f'(z_0)=0 \\text{ ( because $z_0$ is a maximizer of f.)}$$ Then,\n",
        "\\begin{align}\n",
        "& \\ln f(z)\\approx \\ln[f(z_0)]+0-\\frac{1}{2}\\left[-\\frac{d^2}{dz^2}[\\ln f(z)]\\bigg\\lvert_{z=z_0}(z-z_0)^{2}\\right]\\\\\n",
        "⇒&\\ln f(z)≈ \\ln[f(z_0)]-\\frac{1}{2}A(z-z_0)^{2}\\text{ where } A= -\\frac{d^2}{dz^2}[\\ln f(z)]\\bigg\\lvert_{z=z_0}\\\\\n",
        "⇒&\\exp\\{\\ln f(z)\\}≈\\exp\\left\\{\\ln[f(z_0)]-\\frac{1}{2}A(z-z_0)^{2}\\right\\}\\\\\n",
        "  ⇒&f(z)≈\\exp\\{\\ln[f(z_0)]\\}\\cdot\\exp\\left\\{-\\frac{1}{2}A(z-z_0)^{2}\\right\\} \\\\\n",
        "⇒&f(z)≈f(z_0)\\exp\\left\\{-\\frac{1}{2}A(z-z_0)^{2}\\right\\}\\\\\n",
        "\\end{align}\n",
        " We obtain a normalized distribution $q(z)$ by making use of the standard result for the normalization of a gaussian. In fact,\n",
        "\n",
        " \\begin{align}\n",
        " Z&=\\int f(z) dz\\\\\n",
        " &=∫f(z_0)\\exp\\left\\{-\\frac{1}{2}A(z-z_0)^{2}\\right\\}dz\\\\\n",
        " &=f(z_0)∫\\exp\\left\\{-\\frac{1}{2}A(z-z_0)^{2}\\right\\}dz\\\\\n",
        " &=f(z_0)∫\\exp\\left\\{-\\frac{1}{2}(A^{-1})^{-1}(z-z_0)^{2}\\right\\}dz\\\\\n",
        " &=f(z_0)∫\\exp\\left\\{-\\frac{1}{2}\\dfrac{(z-z_0)^{2}}{A^{-1}}\\right\\}dz\\\\\n",
        " &= f(z_0)\\sqrt{2π A^{-1}}\\\\\n",
        " \\end{align}\n",
        " Then,\n",
        "\n",
        " \\begin{align}\n",
        " q(z)\\approx p(z)&=\\frac{1}{Z}f(z)\\\\\n",
        " &=\\dfrac{1}{f(z_0)\\sqrt{2π A^{-1}}}⋅f(z_0)\\exp\\left\\{-\\frac{1}{2}A(z-z_0)^{2}\\right\\}\\\\\n",
        "  &=\\left(\\dfrac{A}{\\sqrt{2π}}\\right)^{1/2}⋅\\exp\\left\\{-\\frac{1}{2}\\dfrac{(z-z_0)^{2}}{A^{-1}}\\right\\}\\\\\n",
        " &=\\dfrac{1}{\\sqrt{2π A^{-1}}}⋅\\exp\\left\\{-\\frac{1}{2}\\dfrac{(z-z_0)^{2}}{A^{-1}}\\right\\}\\\\\n",
        " &=\\mathcal{N}\\left(z|z_0,A^{-1}\\right)\n",
        " \\end{align}\n",
        "\n",
        " Therefore, $q(z)$ is a normal distribution of mean $z_0$ and variance $A^{-1}>0$."
      ],
      "metadata": {
        "id": "62maeqOsRx0E"
      }
    },
    {
      "cell_type": "markdown",
      "source": [
        "**2.2. Laplace approximation in $N$-dimensional space**\n",
        "\n",
        "Let's consider the same assumptions over $p(z)$, $f(z)$, $Z_0$  and $q(z)$ as before however, we are now in N-dimensional space. In fact, at the stationary point $z_0$, the gradient $∇ f(x)$ will vanish. That's to say\n",
        "\n",
        "\\begin{align}\n",
        "\\nabla_{f}(z_0) = 0.\n",
        "\\end{align}\n",
        "By using Taylor expansion of $\\ln f(z)$ at $z = z_0$, we have:\n",
        "\\begin{align}\n",
        "\\ln f(z)≈ \\ln f(z_0)+\\nabla \\ln f(z_0)(z-z_0)+\\frac{1}{2!}(z-z_0)^{T}\\nabla^{2}\\ln f(z_0)(z-z_0).\n",
        "\\end{align} Then,\n",
        "\\begin{align}\n",
        "&\\ln f(z)≈ \\ln f(z_0)+\\frac{1}{2}(z-z_0)^{T}\\nabla^{2}\\ln f(z_0)(z-z_0)\\\\\n",
        "⇒&\\ln f(z) \\approx \\ln f(z_0)-\\left[-\\frac{1}{2}(z-z_0)^{T}\\nabla^{2}\\ln f(z_0)(z-z_0)\\right]\n",
        "\\end{align}\n",
        "Let's say,\n",
        "\\begin{align}\n",
        "A = -\\nabla^{2}\\ln f(z_0)\n",
        "\\end{align}\n",
        "\n",
        "\\begin{align}\n",
        "⇒&\\ln f(z)\\approx\\ln f(z_0)-\\frac{1}{2}(z-z_0)^{T}A(z-z_0)\\\\\n",
        "⇒&\\exp\\{\\ln f(z)\\}\\approx\\exp\\left\\{\\ln f(z_0)-\\frac{1}{2}(z-z_0)^{T}A(z-z_0)\\right\\}\\\\\n",
        "⇒&f(z)\\approx f(z_0)\\exp\\left\\{-\\frac{1}{2}(z-z_0)^{T}A(z-z_0)\\right\\}\n",
        "\\end{align}\n",
        "As before, we obtain a normal distribution $q(z)$ by making use of the standard result for a normalized multivariate Gaussian:\n",
        "\\begin{align}\n",
        "Z&=\\int f(z) dz\\\\\n",
        "&=\\int f(z_0)\\exp\\left\\{-\\frac{1}{2}(z-z_0)^{T}A(z-z_0)\\right\\}dz\\\\\n",
        "&=f(z_0)\\int \\exp\\left\\{-\\frac{1}{2}(z-z_0)^{T}A(z-z_0)\\right\\}dz\\\\\n",
        "&=f(z_0)\\int \\exp\\left\\{-\\frac{1}{2}(z-z_0)^{T}\\left(A^{-1}\\right)^{-1}(z-z_0)\\right\\}dz\\\\\n",
        "&=f(z_0)\\sqrt{|2π A^{-1}|}\\\\\n",
        "&=f(z_0)\\sqrt{(2π)^{N} |A^{-1}|}\\\\\n",
        "Z&=f(z_0)\\left(\\frac{(2π)^{N}}{|A|}\\right)^\\frac{1}{2}\n",
        "\\end{align}\n",
        "Then,\n",
        "\n",
        "\\begin{align}\n",
        "q(z)\\approx p(z)&=\\dfrac{1}{Z}f(z)\\\\\n",
        "&=\\frac{1}{f(z_0)\\sqrt{(2π)^{N} |A^{-1}|}}f(z_0)\\exp\\left\\{-\\frac{1}{2}(z-z_0)^{T}A(z-z_0)\\right\\}\\\\\n",
        "&=\\left(\\frac{A}{(2π)^{N}}\\right)^\\frac{1}{2}\\exp\\left\\{-\\frac{1}{2}(z-z_0)^{T}\\left(A^{-1}\\right)^{-1}(z-z_0)\\right\\}\\\\\n",
        "&=\\frac{1}{\\sqrt{(2π)^{N} |A^{-1}|}}\\exp\\left\\{-\\frac{1}{2}(z-z_0)^{T}\\left(A^{-1}\\right)^{-1}(z-z_0)\\right\\}\\\\\n",
        "q(z)\\approx p(z)&=\\mathcal{N}\\left(z|z_0,A^{-1}\\right)\n",
        "\\end{align}\n",
        "\n",
        "Where $|A|$ denotes the determinant of $A$. This gaussian distribution will be well defined provided its precision matrix, given by $A$, is positive definite."
      ],
      "metadata": {
        "id": "hIbCbW7Pv8E7"
      }
    },
    {
      "cell_type": "markdown",
      "source": [
        "**2.3. Fisher information matrix**\n",
        "\n",
        "The Fisher information is a way of measuring the amount of information that an observable random variable $X$ carries about an unknown parameter $\\theta$ upon which the probability of $X$ depends. Let $f(X;\\theta)$ be the probability density function (or probability mass function) for $X$ conditioned on the value of $\\theta$. It describes the probability that we observe a given outcome of $X$, given a known value of $\\theta$. If $f$ is sharply peaked with respect to changes in $\\theta$, it is easy to indicate the \"correct\" value of $\\theta$ from the data, or equivalently, that the data $X$ provides a lot of information about the parameter $\\theta$. If $f$ is flat and spread-out, then it would take many samples of $X$ to estimate the actual \"true\" value of $\\theta$ that would be obtained using the entire population being sampled. This suggests studying some kind of variance with respect to $\\theta$.\n",
        "\n",
        "Formally, the partial derivative with respect to $\\theta$ of the natural logarithm of the likelihood function is called the score. Under certain regularity conditions, if $\\theta$ is the true parameter (i.e., $X$ is actually distributed as $f(X;\\theta)$), it can be shown that the expected value (the first moment) of the score, evaluated at the true parameter value $\\theta$, is $0$:\n",
        "\\begin{align}\n",
        "\\operatorname{E}\\left[\\left.\\frac{\\partial}{\\partial\\theta}\\log f(X;\\theta)\\,\\,\\right|\\,\\,\\theta\\right]& = \\int_{\\mathbb{R}}\\frac{\\frac{\\partial}{\\partial\\theta}f(x;\\theta)}{f(x;\\theta)}f(x;\\theta)\\,dx\\\\\n",
        "&= \\frac{\\partial}{\\partial\\theta}\\int_{\\mathbb{R}}f(x;\\theta)\\,dx\\\\\n",
        "&= \\frac{\\partial}{\\partial\\theta}1\\\\\n",
        "&= 0.\n",
        "\\end{align}\n",
        "\n",
        "The Fisher information is defined to be the variance of the score:\n",
        "\n",
        "\\begin{equation}\n",
        "\\mathcal{I}(\\theta) = \\operatorname{E}\\left[\\left.\\left(\\frac{\\partial}{\\partial\\theta}\\log f(X;\\theta)\\right)^{2}\\,\\,\\right|\\,\\,\\theta\\right] = \\int_{\\mathbb{R}}\\left(\\frac{\\partial}{\\partial\\theta}\\log f(x;\\theta)\\right)^{2}f(x;\\theta)\\,dx,\n",
        "\\end{equation}\n",
        "\n",
        "Note that $\\mathcal{I}(\\theta) \\geq 0$. A random variable carrying high Fisher information implies that the absolute value of the score is often high. The Fisher information is not a function of a particular observation, as the random variable $X$ has been averaged out.\n",
        "\n",
        "If $\\log f(x;\\theta)$ is twice differentiable with respect to $\\theta$, and under certain regularity conditions, then the Fisher information may also be written as\n",
        "\\begin{equation}\n",
        "\\mathcal{I}(\\theta) = -\\operatorname{E}\\left[\\left.\\frac{\\partial^2}{\\partial\\theta^2}\\log f(X;\\theta)\\,\\,\\right|\\,\\,\\theta\\right],\n",
        "\\end{equation}\n",
        "since\n",
        "\\begin{equation}\n",
        "\\frac{\\partial^2}{\\partial\\theta^2}\\log f(X;\\theta) = \\frac{\\frac{\\partial^2}{\\partial\\theta^2}f(X;\\theta)}{f(X;\\theta)} - \\left(\\frac{\\frac{\\partial}{\\partial\\theta}f(X;\\theta)}{f(X;\\theta)}\\right)^{2} = \\frac{\\frac{\\partial^2}{\\partial\\theta^2}f(X;\\theta)}{f(X;\\theta)} - \\left(\\frac{\\partial}{\\partial\\theta}\\log f(X;\\theta)\\right)^{2}\n",
        "\\end{equation}\n",
        "and\n",
        "\\begin{equation}\n",
        "\\operatorname{E}\\left[\\left.\\frac{\\partial^2}{\\partial\\theta^2}\\frac{f(X;\\theta)}{f(X;\\theta)}\\,\\,\\right|\\,\\,\\theta\\right] = \\frac{\\partial^2}{\\partial\\theta^2}\\int_{\\mathbb{R}}f(x;\\theta)\\,dx = 0.\n",
        "\\end{equation}\n",
        "\n",
        "Thus, the Fisher information may be seen as the curvature of the support curve (the graph of the log-likelihood). Near the maximum likelihood estimate, low Fisher information therefore indicates that the maximum appears \"blunt\", that is, the maximum is shallow and there are many nearby values with a similar log-likelihood. Conversely, high Fisher information indicates that the maximum is sharp.\n"
      ],
      "metadata": {
        "id": "whOfBoLQuZOF"
      }
    },
    {
      "cell_type": "markdown",
      "source": [
        "**2.4. Implementation of a 1d example**"
      ],
      "metadata": {
        "id": "_LIHrC4KyPqG"
      }
    },
    {
      "cell_type": "code",
      "source": [
        "#@title Import\n",
        "import jax\n",
        "import jax.numpy as jnp\n",
        "from scipy.optimize import minimize_scalar\n",
        "from scipy.integrate import quad\n",
        "import matplotlib.pyplot as plt"
      ],
      "metadata": {
        "id": "y_sVqPYDMx2k"
      },
      "execution_count": null,
      "outputs": []
    },
    {
      "cell_type": "code",
      "execution_count": null,
      "metadata": {
        "id": "P01u_pCRDN1c"
      },
      "outputs": [],
      "source": [
        "#sigmoid function\n",
        "def sigmoid(x):\n",
        "    return 1 / (1 + jnp.exp(-x))\n",
        "\n",
        "#Unnormalized distribution\n",
        "def f(x):\n",
        "  return jnp.exp(-0.5*x**2)*sigmoid(20*x+2)\n",
        "\n",
        "#Gaussian density\n",
        "def gaussian(x, mean, std):\n",
        "  return jnp.exp(-0.5*(x-mean)**2/std)/jnp.sqrt(2*jnp.pi*std)"
      ]
    },
    {
      "cell_type": "code",
      "source": [
        "#@title 1. Compute the mode\n",
        "\n",
        "#Maximum of f\n",
        "max_sol = minimize_scalar(lambda x: -f(x), method='bounded', bounds=(-4,4))\n",
        "\n",
        "mode = max_sol.x\n",
        "\n",
        "print(\"Optimal solution of maximum of f :\", mode)"
      ],
      "metadata": {
        "colab": {
          "base_uri": "https://localhost:8080/"
        },
        "id": "gHUMxPmFavzs",
        "outputId": "1211a877-8b55-4378-a90c-5e09450bd2c7"
      },
      "execution_count": null,
      "outputs": [
        {
          "output_type": "stream",
          "name": "stdout",
          "text": [
            "Optimal solution of maximum of f : 0.14572664\n"
          ]
        }
      ]
    },
    {
      "cell_type": "code",
      "source": [
        "#@title 2. Evalute negative second derivative of f at the mode\n",
        "neg_log_f = lambda x: -jnp.log(f(x))\n",
        "\n",
        "A = jax.hessian(neg_log_f)(mode)\n",
        "print(\"Negative hessian at the mode : \", A)\n",
        "print(\"Std of Laplace approximation : \", 1/A)"
      ],
      "metadata": {
        "colab": {
          "base_uri": "https://localhost:8080/"
        },
        "id": "OkeW6271Mh0O",
        "outputId": "afee4451-8d88-49a1-bb38-d4de2da713c5"
      },
      "execution_count": null,
      "outputs": [
        {
          "output_type": "stream",
          "name": "stdout",
          "text": [
            "Negative hessian at the mode :  3.893038\n",
            "Std of Laplace approximation :  0.2568688\n"
          ]
        }
      ]
    },
    {
      "cell_type": "code",
      "source": [
        "#@title 3.  Plotting\n",
        "\n",
        "#################\n",
        "x = jnp.linspace(-10,10,1000)\n",
        "#Normalization\n",
        "Z, _ = quad(f, -jnp.inf, jnp.inf)\n",
        "original_dist = f(x)/Z\n",
        "\n",
        "#Laplace approximation\n",
        "pred_dist = gaussian(x, mode, 1/A)\n",
        "#################\n",
        "plt.figure(figsize=(15, 6))\n",
        "plt.plot(x, original_dist, color=\"red\", label=\"Original Distribution\")\n",
        "plt.fill_between(x, original_dist, color='red', alpha=0.5)\n",
        "plt.plot(x, pred_dist, color=\"blue\", label=\"Laplace Approximation\")\n",
        "plt.axvline(x=mode, linestyle='--')\n",
        "plt.legend()\n",
        "plt.grid(True)\n",
        "plt.show()"
      ],
      "metadata": {
        "colab": {
          "base_uri": "https://localhost:8080/",
          "height": 522
        },
        "id": "vJqgWFnIPaUL",
        "outputId": "9bbd616e-c70e-49c4-ecb8-6d0153cbe8de"
      },
      "execution_count": null,
      "outputs": [
        {
          "output_type": "display_data",
          "data": {
            "text/plain": [
              "<Figure size 1500x600 with 1 Axes>"
            ],
            "image/png": "[encoded data removed]"
          },
          "metadata": {}
        }
      ]
    },
    {
      "cell_type": "code",
      "source": [
        "print(\"Z_orig = \",Z)\n",
        "print(\"Z_gau = \",jnp.sqrt(2*jnp.pi/A) )"
      ],
      "metadata": {
        "colab": {
          "base_uri": "https://localhost:8080/"
        },
        "id": "vD6hP16ePPel",
        "outputId": "f7dfe5f8-9a5c-4ef4-ac74-49f4dda116d8"
      },
      "execution_count": null,
      "outputs": [
        {
          "output_type": "stream",
          "name": "stdout",
          "text": [
            "Z_orig =  1.3527420227798648\n",
            "Z_gau =  1.2704151\n"
          ]
        }
      ]
    },
    {
      "cell_type": "markdown",
      "source": [
        "# **3. Conclusion**\n",
        "\n",
        "The Laplace approximation framework:\n",
        "\n",
        "- Simple but widely used framework,\n",
        "\n",
        "- \tAims to find a Gaussian approximation to a\n",
        "probability density defined over a set of\n",
        "continuous variables, defined for both univariate and multivariate, directly applicable only to real variables.\n",
        "\n",
        "- Method aims specifically at problems in which\n",
        "the distribution is unimodal, We can find the mode using a standard optimization method,\n",
        "\n",
        "- Many distributions encountered in practice are\n",
        "multimodal:There will be different approximations according to\n",
        "which mode considered,\n"
      ],
      "metadata": {
        "id": "OxRcnHW_mKKE"
      }
    },
    {
      "cell_type": "markdown",
      "source": [
        "# **4. References**"
      ],
      "metadata": {
        "id": "9xP8zNWwLUHq"
      }
    },
    {
      "cell_type": "markdown",
      "source": [
        "- **Christopher M Bishop**. [Pattern recognition and machine learning](https://www.microsoft.com/en-us/research/people/cmbishop/prml-book/). Springer, 2006.\n",
        "\n",
        "- **Kevin P Murphy**. [Probabilistic machine learning : An introduction](https://mitpress.mit.edu/9780262046824/probabilistic-machine-learning/). MIT press, 2022.\n",
        "\n",
        "- **Kevin P Murphy**.[Probabilistic machine learning : Advanced topics](https://mitpress.mit.edu/9780262048439/probabilistic-machine-learning/).\n",
        "MIT press, 2023."
      ],
      "metadata": {
        "id": "7ocNk_9S0XXd"
      }
    }
  ]
}